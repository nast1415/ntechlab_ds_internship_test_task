{
 "cells": [
  {
   "cell_type": "markdown",
   "metadata": {},
   "source": [
    "# Задание 1. Программирование\n",
    "## Поиск непрерывного подмассива с максимальной суммой\n",
    "\n",
    "### Описание алгоритма\n",
    "\n",
    "В каждый момент времени будем поддерживать текущую и максимальную сумму на непрерывных подмассивах исходного массива $A$. Изначально они обе равны 0. \n",
    "\n",
    "Будем итерироваться по массиву $A$ и обновлять значение текущей частичной суммы. \n",
    "* Если при добавлении очередного элемента такая сумма становится больше или равна максимальной — мы добавляем этот элемент в подмассив, являющийся кандидатом на ответ (передвигаем границу окончания такого потенциального подмассива на этот элемент). \n",
    "* Если в какой-то момент частичная сумма становится меньше или равна 0 — это значит, что от добавления такого подмассива в ответ результат не улучшится, поэтому мы зануляем текущую частичную сумму и продолжаем поиск кандидатов на ответ со следующего элемента (сдвигаем потенциальную стартовую позицию на следующий элемент массива).\n",
    "\n",
    "В результате для всех массивов, которые содержат хотя бы один неотрицательный элемент, будут найдены стартовая и финишная позиции, ограничивающие непрерывный подмассив с максимальной суммой.\n",
    "\n",
    "В случае, если массив содержит только отрицательные элементы, в ответе будет подмассив из одного максимального элемента.\n",
    "\n",
    "### Частные случаи\n",
    "\n",
    "Конкретные особенности алгоритма в случае существования нескольких правильных ответов (случаи, для которых в задании не было явных указаний на то, как их обрабатывать): \n",
    "\n",
    "* Как следует из описания алгоритма, в случае, если в массиве $A$ есть подмассив с нулевой суммой, он не будет частью ответа. Пример: для массива $[-58, 57, -57, 58]$ ответ будет $[58]$, а не $[57, -57, 58]$.\n",
    "\n",
    "* Если в массиве $A$ существует несколько непрерывных подмассивов с максимальной суммой, то в ответе будет последний из них.\n",
    "\n",
    "### Реализация алгоритма"
   ]
  },
  {
   "cell_type": "code",
   "execution_count": 1,
   "metadata": {},
   "outputs": [],
   "source": [
    "def findMaxSubArray(A):\n",
    "    start_pos = 0 # start position of the target subarray\n",
    "    end_pos = 0 # end posotion of the target subarray\n",
    "    ptr_next = 0 # pointer on the next element of the array after the element, which made partial sum negative\n",
    "    \n",
    "    partial_sum = 0 # for current partial sum, which is greater or equal 0 \n",
    "    max_partial_sum = 0 # for maximum partial sum (subarray with maximum partial sum will be an answer)\n",
    "    \n",
    "    max_value = A[0] # maximum on the array (for cases, when array contains only negative elements)\n",
    "    \n",
    "    for i in range(len(A)):\n",
    "        el = A[i]\n",
    "        partial_sum += el\n",
    "        \n",
    "        # if the new sum is greater than the previous max sum, we include the new element in the target subarray\n",
    "        if partial_sum >= max_partial_sum:\n",
    "            max_partial_sum = partial_sum\n",
    "            start_pos = ptr_next # the starting position is the next element after the last negative sum\n",
    "            end_pos = i\n",
    "         \n",
    "        # if the new sum becomes negative, we make it equal to 0 and set the starting position with the next element\n",
    "        if partial_sum <= 0:\n",
    "            partial_sum = 0\n",
    "            ptr_next = i + 1\n",
    "            \n",
    "        # we support the maximum element on the array\n",
    "        if el > max_value:\n",
    "            max_value = el\n",
    "    # when array contains only negative elements we will return subarray with one maximum element        \n",
    "    if max_partial_sum == 0:\n",
    "        return [max_value]\n",
    "    else:\n",
    "        return A[start_pos : end_pos + 1]"
   ]
  },
  {
   "cell_type": "markdown",
   "metadata": {},
   "source": [
    "### Тестирование функции на примерах"
   ]
  },
  {
   "cell_type": "code",
   "execution_count": 2,
   "metadata": {},
   "outputs": [],
   "source": [
    "def result_check(input_array, expected_result):\n",
    "    if findMaxSubArray(input_array) == expected_result:\n",
    "        print('Correct')\n",
    "    else:\n",
    "        print('Incorrect')"
   ]
  },
  {
   "cell_type": "code",
   "execution_count": 3,
   "metadata": {},
   "outputs": [
    {
     "name": "stdout",
     "output_type": "stream",
     "text": [
      "Correct\n",
      "Correct\n",
      "Correct\n",
      "Correct\n",
      "Correct\n",
      "Correct\n",
      "Correct\n"
     ]
    }
   ],
   "source": [
    "test_samples = [([-2, 1, -3, 4, -1, 2, 1, -5, 4], [4, -1, 2, 1]),\n",
    "                ([-2, -1, -3, 4, -1, 2, 1, -5, 4], [4, -1, 2, 1]),\n",
    "                ([-3, -4, 20, -6, -16, 2], [20]),\n",
    "                ([3, 5, -8, -6, 6, 2, 1, -30, 8], [6, 2, 1]),\n",
    "                ([-3, -2, -1, -7, -4, -5], [-1]),\n",
    "                ([1, 2, 3, 4, 5], [1, 2, 3, 4, 5]),\n",
    "                ([-58, 57, -57, 58], [58])]\n",
    "\n",
    "for sample in test_samples:\n",
    "    result_check(sample[0], sample[1])"
   ]
  }
 ],
 "metadata": {
  "kernelspec": {
   "display_name": "Python 3",
   "language": "python",
   "name": "python3"
  },
  "language_info": {
   "codemirror_mode": {
    "name": "ipython",
    "version": 3
   },
   "file_extension": ".py",
   "mimetype": "text/x-python",
   "name": "python",
   "nbconvert_exporter": "python",
   "pygments_lexer": "ipython3",
   "version": "3.7.4"
  }
 },
 "nbformat": 4,
 "nbformat_minor": 2
}
